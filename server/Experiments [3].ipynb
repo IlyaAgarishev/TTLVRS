{
 "cells": [
  {
   "cell_type": "code",
   "execution_count": 1,
   "metadata": {},
   "outputs": [],
   "source": [
    "import aiohttp\n",
    "import asyncio\n",
    "from aiohttp import web\n",
    "from db import db\n",
    "from classes import *\n",
    "import json\n",
    "from geopy.distance import distance, geodesic\n",
    "\n",
    "db.generate_mapping(create_tables=True)"
   ]
  },
  {
   "cell_type": "code",
   "execution_count": null,
   "metadata": {},
   "outputs": [],
   "source": [
    "latitude, longitude = 56.8378024, 60.6030364\n",
    "radius = 500"
   ]
  },
  {
   "cell_type": "code",
   "execution_count": null,
   "metadata": {},
   "outputs": [],
   "source": [
    "relevant_events = []\n",
    "for event in Event.select():\n",
    "    event_location = event.location.latitude, event.location.longitude\n",
    "    event_id = event.id\n",
    "    print(geodesic(event_location, (latitude, longitude)).m)\n",
    "    print(event_location, event_id)\n",
    "    if geodesic(event_location, (latitude, longitude)).m < radius:\n",
    "        relevant_events.append(event_id)\n",
    "Event.select(lambda x: x.id in relevant_events)[:]"
   ]
  },
  {
   "cell_type": "code",
   "execution_count": null,
   "metadata": {},
   "outputs": [],
   "source": [
    "relevant_event_ids = set(select(x.id for x in Event)[:])\n",
    "relevant_event_ids"
   ]
  },
  {
   "cell_type": "code",
   "execution_count": null,
   "metadata": {},
   "outputs": [],
   "source": [
    "relevant_event_ids.intersection([1, 2, 2, 3])"
   ]
  },
  {
   "cell_type": "code",
   "execution_count": null,
   "metadata": {},
   "outputs": [],
   "source": []
  },
  {
   "cell_type": "code",
   "execution_count": null,
   "metadata": {},
   "outputs": [],
   "source": [
    "time_start = get_time('2019-05-21T00:00:00')\n",
    "time_end = get_time('2019-06-01T00:00:00')\n",
    "time_start, time_end"
   ]
  },
  {
   "cell_type": "code",
   "execution_count": null,
   "metadata": {
    "scrolled": true
   },
   "outputs": [],
   "source": [
    "select(event.id for event in Event if time_start <= event.time_start and event.time_start <= time_end)[:]"
   ]
  },
  {
   "cell_type": "code",
   "execution_count": null,
   "metadata": {},
   "outputs": [],
   "source": []
  },
  {
   "cell_type": "code",
   "execution_count": null,
   "metadata": {},
   "outputs": [],
   "source": []
  },
  {
   "cell_type": "code",
   "execution_count": null,
   "metadata": {},
   "outputs": [],
   "source": [
    "id = 1\n",
    "list(select(x.events for x in Author if x.id == id)[:])"
   ]
  },
  {
   "cell_type": "code",
   "execution_count": null,
   "metadata": {},
   "outputs": [],
   "source": [
    "Media.select().show()"
   ]
  },
  {
   "cell_type": "code",
   "execution_count": null,
   "metadata": {},
   "outputs": [],
   "source": [
    "categories = 'entertainment,food,music'\n",
    "categories = categories.split(',')\n",
    "categories"
   ]
  },
  {
   "cell_type": "code",
   "execution_count": null,
   "metadata": {},
   "outputs": [],
   "source": [
    "list(select(x for x in Event if x.category_eng in categories)[:])"
   ]
  },
  {
   "cell_type": "code",
   "execution_count": null,
   "metadata": {},
   "outputs": [],
   "source": [
    "Event.select().show()"
   ]
  },
  {
   "cell_type": "code",
   "execution_count": null,
   "metadata": {
    "scrolled": true
   },
   "outputs": [],
   "source": [
    "relevant_event_ids = set(select(x.id for x in Event)[:])\n",
    "events = Event.select(lambda x: x.id in relevant_event_ids)[:]\n",
    "distances = [geodesic((event.location.latitude, event.location.longitude), (latitude, longitude)).m for event in events]"
   ]
  },
  {
   "cell_type": "code",
   "execution_count": null,
   "metadata": {},
   "outputs": [],
   "source": [
    "events_dict = json.loads(events_to_json(events))\n",
    "for i, event_dict in enumerate(events_dict):\n",
    "    event_dict['distance'] = distances[i]\n",
    "events_json = json.dumps(events_dict)\n",
    "events_json"
   ]
  },
  {
   "cell_type": "code",
   "execution_count": 4,
   "metadata": {},
   "outputs": [
    {
     "name": "stdout",
     "output_type": "stream",
     "text": [
      "id|media_type|link                                                     |event   \n",
      "--+----------+---------------------------------------------------------+--------\n",
      "1 |image     |https://avatars.mds.yandex.net/get-altay/904281/2a0000...|Event[1]\n",
      "2 |image     |https://avatars.mds.yandex.net/get-altay/367512/2a0000...|Event[2]\n",
      "3 |image     |http://semantic.uraic.ru/icons/getimage.ashx?id=31383    |Event[2]\n",
      "4 |image     |https://media-cdn.tripadvisor.com/media/photo-s/08/09/...|Event[2]\n"
     ]
    }
   ],
   "source": [
    "Media.select()[:].show()"
   ]
  },
  {
   "cell_type": "code",
   "execution_count": null,
   "metadata": {
    "scrolled": true
   },
   "outputs": [],
   "source": [
    "distances = [geodesic((event.location.latitude, event.location.longitude), (latitude, longitude)).m for event in Event.select()]\n",
    "events_dict = json.loads(events_to_json(Event.select()[:]))\n",
    "for i, event_dict in enumerate(events_dict):\n",
    "    event_dict['distance'] = distances[i]\n",
    "events_to_json = json.dumps(events_dict)\n",
    "events_to_json"
   ]
  },
  {
   "cell_type": "code",
   "execution_count": null,
   "metadata": {},
   "outputs": [],
   "source": []
  },
  {
   "cell_type": "code",
   "execution_count": null,
   "metadata": {},
   "outputs": [],
   "source": [
    "events_dict[3]"
   ]
  },
  {
   "cell_type": "code",
   "execution_count": 12,
   "metadata": {},
   "outputs": [
    {
     "data": {
      "text/plain": [
       "[{'event': 1,\n",
       "  'id': 1,\n",
       "  'link': 'https://avatars.mds.yandex.net/get-altay/904281/2a0000016286ede0dd0e1195ac586b93bb90/XXXL',\n",
       "  'media_type': 'image'}]"
      ]
     },
     "execution_count": 12,
     "metadata": {},
     "output_type": "execute_result"
    }
   ],
   "source": [
    "list(map(lambda x: x.to_dict(), Event[1].media))"
   ]
  },
  {
   "cell_type": "code",
   "execution_count": null,
   "metadata": {},
   "outputs": [],
   "source": []
  }
 ],
 "metadata": {
  "kernelspec": {
   "display_name": "Python 3",
   "language": "python",
   "name": "python3"
  },
  "language_info": {
   "codemirror_mode": {
    "name": "ipython",
    "version": 3
   },
   "file_extension": ".py",
   "mimetype": "text/x-python",
   "name": "python",
   "nbconvert_exporter": "python",
   "pygments_lexer": "ipython3",
   "version": "3.6.4"
  }
 },
 "nbformat": 4,
 "nbformat_minor": 2
}
