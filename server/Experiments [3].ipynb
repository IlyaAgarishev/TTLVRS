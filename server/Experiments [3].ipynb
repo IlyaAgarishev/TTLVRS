{
 "cells": [
  {
   "cell_type": "code",
   "execution_count": 1,
   "metadata": {},
   "outputs": [],
   "source": [
    "import aiohttp\n",
    "import asyncio\n",
    "from aiohttp import web\n",
    "from db import db\n",
    "from classes import *\n",
    "import json\n",
    "from geopy.distance import distance, geodesic\n",
    "\n",
    "db.generate_mapping(create_tables=True)"
   ]
  },
  {
   "cell_type": "code",
   "execution_count": null,
   "metadata": {},
   "outputs": [],
   "source": [
    "latitude, longitude = 56.8378024, 60.6030364\n",
    "radius = 500"
   ]
  },
  {
   "cell_type": "code",
   "execution_count": null,
   "metadata": {},
   "outputs": [],
   "source": [
    "relevant_events = []\n",
    "for event in Event.select():\n",
    "    event_location = event.location.latitude, event.location.longitude\n",
    "    event_id = event.id\n",
    "    print(geodesic(event_location, (latitude, longitude)).m)\n",
    "    print(event_location, event_id)\n",
    "    if geodesic(event_location, (latitude, longitude)).m < radius:\n",
    "        relevant_events.append(event_id)\n",
    "Event.select(lambda x: x.id in relevant_events)[:]"
   ]
  },
  {
   "cell_type": "code",
   "execution_count": 10,
   "metadata": {},
   "outputs": [
    {
     "data": {
      "text/plain": [
       "{1, 2, 3, 4, 5}"
      ]
     },
     "execution_count": 10,
     "metadata": {},
     "output_type": "execute_result"
    }
   ],
   "source": [
    "relevant_event_ids = set(select(x.id for x in Event)[:])\n",
    "relevant_event_ids"
   ]
  },
  {
   "cell_type": "code",
   "execution_count": 14,
   "metadata": {},
   "outputs": [
    {
     "data": {
      "text/plain": [
       "{1, 2, 3}"
      ]
     },
     "execution_count": 14,
     "metadata": {},
     "output_type": "execute_result"
    }
   ],
   "source": [
    "relevant_event_ids.intersection([1, 2, 2, 3])"
   ]
  },
  {
   "cell_type": "code",
   "execution_count": null,
   "metadata": {},
   "outputs": [],
   "source": []
  },
  {
   "cell_type": "code",
   "execution_count": 2,
   "metadata": {},
   "outputs": [
    {
     "data": {
      "text/plain": [
       "(datetime.datetime(2019, 5, 21, 0, 0), datetime.datetime(2019, 6, 1, 0, 0))"
      ]
     },
     "execution_count": 2,
     "metadata": {},
     "output_type": "execute_result"
    }
   ],
   "source": [
    "time_start = get_time('2019-05-21T00:00:00')\n",
    "time_end = get_time('2019-06-01T00:00:00')\n",
    "time_start, time_end"
   ]
  },
  {
   "cell_type": "code",
   "execution_count": 4,
   "metadata": {
    "scrolled": true
   },
   "outputs": [
    {
     "data": {
      "text/plain": [
       "[1, 3]"
      ]
     },
     "execution_count": 4,
     "metadata": {},
     "output_type": "execute_result"
    }
   ],
   "source": [
    "select(event.id for event in Event if time_start <= event.time_start and event.time_start <= time_end)[:]"
   ]
  },
  {
   "cell_type": "code",
   "execution_count": null,
   "metadata": {},
   "outputs": [],
   "source": []
  },
  {
   "cell_type": "code",
   "execution_count": null,
   "metadata": {},
   "outputs": [],
   "source": []
  },
  {
   "cell_type": "code",
   "execution_count": 5,
   "metadata": {},
   "outputs": [
    {
     "name": "stdout",
     "output_type": "stream",
     "text": [
      "id|name         |time_start   |time_end     |location   |description  |author   \n",
      "--+-------------+-------------+-------------+-----------+-------------+---------\n",
      "1 |Музыкальны...|2019-05-25...|2019-05-26...|Location[1]|Будем петь...|Author[1]\n",
      "2 |Протест КПРФ |2019-05-20...|2019-05-20...|Location[2]|Будем снов...|Author[1]\n",
      "3 |Протест КПРФ |2019-05-21...|2019-05-21...|Location[3]|Будем снов...|Author[1]\n",
      "4 |Выставка, ...|2019-05-20...|2019-05-30...|Location[4]|Будут пред...|Author[1]\n",
      "5 |Выставка в...|2019-05-20...|2019-05-30...|Location[5]|Ранее неиз...|Author[1]\n"
     ]
    }
   ],
   "source": [
    "id = 1\n",
    "select(x.events for x in Author if x.id == id).show()"
   ]
  },
  {
   "cell_type": "code",
   "execution_count": 16,
   "metadata": {},
   "outputs": [],
   "source": [
    "a = {}\n",
    "if not a:\n",
    "    print(a)"
   ]
  },
  {
   "cell_type": "code",
   "execution_count": null,
   "metadata": {},
   "outputs": [],
   "source": []
  }
 ],
 "metadata": {
  "kernelspec": {
   "display_name": "Python 3",
   "language": "python",
   "name": "python3"
  },
  "language_info": {
   "codemirror_mode": {
    "name": "ipython",
    "version": 3
   },
   "file_extension": ".py",
   "mimetype": "text/x-python",
   "name": "python",
   "nbconvert_exporter": "python",
   "pygments_lexer": "ipython3",
   "version": "3.6.4"
  }
 },
 "nbformat": 4,
 "nbformat_minor": 2
}
