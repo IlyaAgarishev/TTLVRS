{
 "cells": [
  {
   "cell_type": "code",
   "execution_count": null,
   "metadata": {},
   "outputs": [],
   "source": [
    "from pony.orm import *\n",
    "import os\n",
    "from datetime import datetime\n",
    "import dateutil.parser"
   ]
  },
  {
   "cell_type": "code",
   "execution_count": null,
   "metadata": {},
   "outputs": [],
   "source": [
    "db = Database()\n",
    "# set_sql_debug(True)"
   ]
  },
  {
   "cell_type": "code",
   "execution_count": null,
   "metadata": {},
   "outputs": [],
   "source": [
    "class Position(db.Entity):\n",
    "    x = Required(float)\n",
    "    y = Required(float)\n",
    "    name = Optional(str, nullable=True)\n",
    "    events = Set('Event')\n",
    "\n",
    "class Event(db.Entity):\n",
    "    name = Required(str)\n",
    "    time_start = Required(datetime)\n",
    "    time_end = Required(datetime)\n",
    "    position = Required('Position')\n",
    "    description = Optional(str, nullable=True)\n",
    "    author = Optional('Author', nullable=True)\n",
    "    \n",
    "class Author(db.Entity):\n",
    "    name = Required(str)\n",
    "    description = Optional(str, nullable=True)\n",
    "    events = Set('Event')\n",
    "    \n",
    "classes = [Position, Event, Author]"
   ]
  },
  {
   "cell_type": "code",
   "execution_count": null,
   "metadata": {},
   "outputs": [],
   "source": [
    "for class_ in classes:\n",
    "    show(class_)"
   ]
  },
  {
   "cell_type": "code",
   "execution_count": null,
   "metadata": {},
   "outputs": [],
   "source": [
    "path_to_db = os.path.abspath('')\n",
    "db_name = 'db.sqlite'\n",
    "filename=f'{path_to_db}/{db_name}'"
   ]
  },
  {
   "cell_type": "code",
   "execution_count": null,
   "metadata": {},
   "outputs": [],
   "source": [
    "db.bind(provider='sqlite', filename=':memory:')\n",
    "db.generate_mapping(create_tables=True)"
   ]
  },
  {
   "cell_type": "code",
   "execution_count": null,
   "metadata": {},
   "outputs": [],
   "source": [
    "@db_session\n",
    "def add_position(x, y, name=None):\n",
    "    Position(x=x, y=y, name=name)\n",
    "\n",
    "@db_session\n",
    "def add_event(name, time_start, time_end, position, description=None, author=None):\n",
    "    Event(name=name, time_start=time_start, time_end=time_end, position=position, description=description, author=author)\n",
    "\n",
    "@db_session\n",
    "def add_author(name, description=None):\n",
    "    Author(name=name, description=description)\n",
    "    \n",
    "def get_time(iso_time):\n",
    "    return dateutil.parser.parse(iso_time)"
   ]
  },
  {
   "cell_type": "code",
   "execution_count": null,
   "metadata": {
    "scrolled": true
   },
   "outputs": [],
   "source": [
    "with db_session:\n",
    "    admin = Author(name='Admin', description='Admin\\'s user')\n",
    "    \n",
    "    pos = Position(x=56.837773, y=60.603695, name='Родонитовый монолит')\n",
    "    Event(name='Музыкальный вечер', \n",
    "          time_start=get_time('2019-05-25T20:00:00'), \n",
    "          time_end=get_time('2019-05-26T00:00:00'), \n",
    "          position=pos, description='Будем петь песни и веселиться!', author=admin)\n",
    "    \n",
    "    pos = Position(x=56.837823, y=60.596343, name='Памятник Ленину')\n",
    "    Event(name='Протест КПРФ', \n",
    "          time_start=get_time('2019-05-20T12:00:00'), \n",
    "          time_end=get_time('2019-05-20T17:00:00'), \n",
    "          position=pos, description='Будем снова протестовать против повышения пенсионного возраста!', author=admin)\n",
    "    Event(name='Протест КПРФ', \n",
    "          time_start=get_time('2019-05-21T12:00:00'), \n",
    "          time_end=get_time('2019-05-21T17:00:00'), \n",
    "          position=pos, description='Будем снова протестовать против повышения пенсионного возраста!', author=admin)\n",
    "\n",
    "    pos = Position(x=56.831074, y=60.604684, name='Центр современного искусства')\n",
    "    Event(name='Выставка, посвященная Стрит-Арту', \n",
    "          time_start=get_time('2019-05-20T12:00:00'), \n",
    "          time_end=get_time('2019-05-30T20:00:00'), \n",
    "          position=pos, description='Будут представлены работы многих известных артистов ЕКБ.', author=admin)\n",
    "    \n",
    "    pos = Position(x=56.836008, y=60.614662, name='Небоскрёб Высоцкий)\n",
    "    Event(name='Выставка в музее В.С. Высоцкого', \n",
    "          time_start=get_time('2019-05-20T12:00:00'), \n",
    "          time_end=get_time('2019-05-30T20:00:00'), \n",
    "          position=pos, description='Ранее неизданные работы и произведения.', author=admin)"
   ]
  },
  {
   "cell_type": "code",
   "execution_count": null,
   "metadata": {
    "scrolled": false
   },
   "outputs": [],
   "source": [
    "# SHOW ALL\n",
    "for class_ in classes:\n",
    "    class_.select().show()"
   ]
  },
  {
   "cell_type": "code",
   "execution_count": null,
   "metadata": {
    "scrolled": false
   },
   "outputs": [],
   "source": [
    "# REMOVE ALL\n",
    "for class_ in classes:\n",
    "    delete(ent for ent in class_)"
   ]
  },
  {
   "cell_type": "code",
   "execution_count": null,
   "metadata": {},
   "outputs": [],
   "source": []
  }
 ],
 "metadata": {
  "kernelspec": {
   "display_name": "Python 3",
   "language": "python",
   "name": "python3"
  },
  "language_info": {
   "codemirror_mode": {
    "name": "ipython",
    "version": 3
   },
   "file_extension": ".py",
   "mimetype": "text/x-python",
   "name": "python",
   "nbconvert_exporter": "python",
   "pygments_lexer": "ipython3",
   "version": "3.6.4"
  }
 },
 "nbformat": 4,
 "nbformat_minor": 2
}
