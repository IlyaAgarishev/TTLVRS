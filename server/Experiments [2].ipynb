{
 "cells": [
  {
   "cell_type": "code",
   "execution_count": 2,
   "metadata": {},
   "outputs": [],
   "source": [
    "from pony.orm import *\n",
    "import os\n",
    "import dateutil.parser"
   ]
  },
  {
   "cell_type": "code",
   "execution_count": null,
   "metadata": {},
   "outputs": [],
   "source": [
    "db = Database()\n",
    "\n",
    "path_to_db = os.path.abspath('')\n",
    "db_name = 'db.sqlite'\n",
    "filename=f'{path_to_db}/{db_name}'\n",
    "\n",
    "db.bind('sqlite', filename=filename)"
   ]
  },
  {
   "cell_type": "code",
   "execution_count": null,
   "metadata": {},
   "outputs": [],
   "source": [
    "# query = \"\"\"SELECT * FROM Event\n",
    "# WHERE strftime('%Y-%m-%d %H-%M-%S','now') < time_start\n",
    "# \"\"\"\n",
    "select(p for p in db.Author)"
   ]
  },
  {
   "cell_type": "code",
   "execution_count": null,
   "metadata": {},
   "outputs": [],
   "source": [
    "import aiohttp\n",
    "import asyncio\n",
    "from aiohttp import web"
   ]
  },
  {
   "cell_type": "code",
   "execution_count": null,
   "metadata": {},
   "outputs": [],
   "source": [
    "async def fetch(session, url):\n",
    "    async with session.get(url) as response:\n",
    "        return await response.text()\n",
    "\n",
    "async def main():\n",
    "    async with aiohttp.ClientSession() as session:\n",
    "        html = await fetch(session, 'http://python.org')\n",
    "        print(html)\n",
    "\n",
    "loop = asyncio.get_event_loop()\n",
    "loop.run_until_complete(main())"
   ]
  },
  {
   "cell_type": "code",
   "execution_count": null,
   "metadata": {},
   "outputs": [],
   "source": [
    "async def handle(request):\n",
    "    name = request.match_info.get('name', \"Anonymous\")\n",
    "    text = \"Hello, \" + name\n",
    "    return web.Response(text=text)\n",
    "\n",
    "app = web.Application()\n",
    "app.add_routes([web.get('/', handle),\n",
    "                web.get('/{name}', handle)])\n",
    "\n",
    "web.run_app(app)"
   ]
  },
  {
   "cell_type": "code",
   "execution_count": null,
   "metadata": {},
   "outputs": [],
   "source": []
  },
  {
   "cell_type": "code",
   "execution_count": 2,
   "metadata": {
    "scrolled": true
   },
   "outputs": [],
   "source": [
    "import aiohttp\n",
    "import asyncio\n",
    "from aiohttp import web\n",
    "from db import db\n",
    "from classes import *\n",
    "import json\n",
    "\n",
    "db.generate_mapping(create_tables=True)"
   ]
  },
  {
   "cell_type": "code",
   "execution_count": 23,
   "metadata": {},
   "outputs": [],
   "source": [
    "def event_to_dict(event):\n",
    "    event_dict = event.to_dict()\n",
    "    event_dict['author'] = event.author.to_dict()\n",
    "    event_dict['position'] = event.position.to_dict()\n",
    "    return event_dict"
   ]
  },
  {
   "cell_type": "code",
   "execution_count": 24,
   "metadata": {
    "scrolled": true
   },
   "outputs": [
    {
     "data": {
      "text/plain": [
       "[{'author': {'description': \"Admin's user\", 'id': 1, 'name': 'Admin'},\n",
       "  'description': 'Будем петь песни и веселиться!',\n",
       "  'id': 1,\n",
       "  'name': 'Музыкальный вечер',\n",
       "  'position': {'id': 1,\n",
       "   'latitude': 56.837773,\n",
       "   'longitude': 60.603695,\n",
       "   'name': 'Родонитовый монолит'},\n",
       "  'time_end': datetime.datetime(2019, 5, 26, 0, 0),\n",
       "  'time_start': datetime.datetime(2019, 5, 25, 20, 0)},\n",
       " {'author': {'description': \"Admin's user\", 'id': 1, 'name': 'Admin'},\n",
       "  'description': 'Будем снова протестовать против повышения пенсионного возраста!',\n",
       "  'id': 2,\n",
       "  'name': 'Протест КПРФ',\n",
       "  'position': {'id': 2,\n",
       "   'latitude': 56.837823,\n",
       "   'longitude': 60.596343,\n",
       "   'name': 'Памятник Ленину'},\n",
       "  'time_end': datetime.datetime(2019, 5, 20, 17, 0),\n",
       "  'time_start': datetime.datetime(2019, 5, 20, 12, 0)},\n",
       " {'author': {'description': \"Admin's user\", 'id': 1, 'name': 'Admin'},\n",
       "  'description': 'Будем снова протестовать против повышения пенсионного возраста!',\n",
       "  'id': 3,\n",
       "  'name': 'Протест КПРФ',\n",
       "  'position': {'id': 3,\n",
       "   'latitude': 56.837823,\n",
       "   'longitude': 60.596343,\n",
       "   'name': 'Памятник Ленину'},\n",
       "  'time_end': datetime.datetime(2019, 5, 21, 17, 0),\n",
       "  'time_start': datetime.datetime(2019, 5, 21, 12, 0)},\n",
       " {'author': {'description': \"Admin's user\", 'id': 1, 'name': 'Admin'},\n",
       "  'description': 'Будут представлены работы многих известных артистов ЕКБ.',\n",
       "  'id': 4,\n",
       "  'name': 'Выставка, посвященная Стрит-Арту',\n",
       "  'position': {'id': 4,\n",
       "   'latitude': 56.831074,\n",
       "   'longitude': 60.604684,\n",
       "   'name': 'Центр современного искусства'},\n",
       "  'time_end': datetime.datetime(2019, 5, 30, 20, 0),\n",
       "  'time_start': datetime.datetime(2019, 5, 20, 12, 0)},\n",
       " {'author': {'description': \"Admin's user\", 'id': 1, 'name': 'Admin'},\n",
       "  'description': 'Ранее неизданные работы и произведения.',\n",
       "  'id': 5,\n",
       "  'name': 'Выставка в музее В.С. Высоцкого',\n",
       "  'position': {'id': 5,\n",
       "   'latitude': 56.836008,\n",
       "   'longitude': 60.614662,\n",
       "   'name': 'Небоскрёб Высоцкий'},\n",
       "  'time_end': datetime.datetime(2019, 5, 30, 20, 0),\n",
       "  'time_start': datetime.datetime(2019, 5, 20, 12, 0)}]"
      ]
     },
     "execution_count": 24,
     "metadata": {},
     "output_type": "execute_result"
    }
   ],
   "source": [
    "list(map(event2dict, Event.select()[:]))"
   ]
  },
  {
   "cell_type": "code",
   "execution_count": 3,
   "metadata": {
    "scrolled": true
   },
   "outputs": [
    {
     "ename": "NameError",
     "evalue": "name 'Event' is not defined",
     "output_type": "error",
     "traceback": [
      "\u001b[1;31m---------------------------------------------------------------------------\u001b[0m",
      "\u001b[1;31mNameError\u001b[0m                                 Traceback (most recent call last)",
      "\u001b[1;32m<ipython-input-3-07e4cf4e9bb6>\u001b[0m in \u001b[0;36m<module>\u001b[1;34m()\u001b[0m\n\u001b[1;32m----> 1\u001b[1;33m \u001b[0mlist\u001b[0m\u001b[1;33m(\u001b[0m\u001b[0mmap\u001b[0m\u001b[1;33m(\u001b[0m\u001b[1;32mlambda\u001b[0m \u001b[0mx\u001b[0m\u001b[1;33m:\u001b[0m \u001b[0mx\u001b[0m\u001b[1;33m.\u001b[0m\u001b[0mto_dict\u001b[0m\u001b[1;33m(\u001b[0m\u001b[1;33m)\u001b[0m\u001b[1;33m,\u001b[0m \u001b[0mEvent\u001b[0m\u001b[1;33m.\u001b[0m\u001b[0mselect\u001b[0m\u001b[1;33m(\u001b[0m\u001b[1;33m)\u001b[0m\u001b[1;33m[\u001b[0m\u001b[1;33m:\u001b[0m\u001b[1;33m]\u001b[0m\u001b[1;33m)\u001b[0m\u001b[1;33m)\u001b[0m\u001b[1;33m\u001b[0m\u001b[0m\n\u001b[0m",
      "\u001b[1;31mNameError\u001b[0m: name 'Event' is not defined"
     ]
    }
   ],
   "source": [
    "list(map(lambda x: x.to_dict(), Event.select()[:]))"
   ]
  },
  {
   "cell_type": "code",
   "execution_count": 4,
   "metadata": {},
   "outputs": [
    {
     "data": {
      "text/plain": [
       "datetime.datetime(2019, 5, 18, 22, 3, 29, 530000, tzinfo=tzutc())"
      ]
     },
     "execution_count": 4,
     "metadata": {},
     "output_type": "execute_result"
    }
   ],
   "source": [
    "dateutil.parser.parse('2019-05-18T22:03:29.530Z')"
   ]
  },
  {
   "cell_type": "code",
   "execution_count": null,
   "metadata": {},
   "outputs": [],
   "source": []
  }
 ],
 "metadata": {
  "kernelspec": {
   "display_name": "Python 3",
   "language": "python",
   "name": "python3"
  },
  "language_info": {
   "codemirror_mode": {
    "name": "ipython",
    "version": 3
   },
   "file_extension": ".py",
   "mimetype": "text/x-python",
   "name": "python",
   "nbconvert_exporter": "python",
   "pygments_lexer": "ipython3",
   "version": "3.6.4"
  }
 },
 "nbformat": 4,
 "nbformat_minor": 2
}
